{
 "cells": [
  {
   "cell_type": "markdown",
   "id": "little-picnic",
   "metadata": {},
   "source": [
    "# Mehmet Arif Biyik\n",
    "## week 7 \n",
    "### Python practice examples\n"
   ]
  },
  {
   "cell_type": "code",
   "execution_count": 1,
   "id": "wicked-genesis",
   "metadata": {},
   "outputs": [],
   "source": [
    "line = \"write python code that prints all words that end with the letter s\""
   ]
  },
  {
   "cell_type": "code",
   "execution_count": 2,
   "id": "apart-agency",
   "metadata": {},
   "outputs": [
    {
     "data": {
      "text/plain": [
       "['write',\n",
       " 'python',\n",
       " 'code',\n",
       " 'that',\n",
       " 'prints',\n",
       " 'all',\n",
       " 'words',\n",
       " 'that',\n",
       " 'end',\n",
       " 'with',\n",
       " 'the',\n",
       " 'letter',\n",
       " 's']"
      ]
     },
     "execution_count": 2,
     "metadata": {},
     "output_type": "execute_result"
    }
   ],
   "source": [
    "#use for, split, if\n",
    "line.split()"
   ]
  },
  {
   "cell_type": "code",
   "execution_count": 4,
   "id": "forty-irrigation",
   "metadata": {},
   "outputs": [
    {
     "name": "stdout",
     "output_type": "stream",
     "text": [
      "prints\n",
      "words\n",
      "s\n"
     ]
    }
   ],
   "source": [
    "for w in line.split():\n",
    "    if w[-1] == 's':\n",
    "        print(w)"
   ]
  },
  {
   "cell_type": "code",
   "execution_count": 7,
   "id": "exceptional-wagner",
   "metadata": {},
   "outputs": [
    {
     "name": "stdout",
     "output_type": "stream",
     "text": [
      "write\n",
      "words\n",
      "with\n"
     ]
    }
   ],
   "source": [
    "for word in line.split():\n",
    "    if word[0] == 'w':\n",
    "        print(word)"
   ]
  },
  {
   "cell_type": "code",
   "execution_count": 8,
   "id": "chemical-width",
   "metadata": {},
   "outputs": [
    {
     "name": "stdout",
     "output_type": "stream",
     "text": [
      "python\n",
      "code\n",
      "that\n",
      "prints\n",
      "that\n",
      "with\n",
      "letter\n"
     ]
    }
   ],
   "source": [
    "for word in line.split():\n",
    "    if len(word)%2 == 0:\n",
    "        print(word)"
   ]
  },
  {
   "cell_type": "code",
   "execution_count": 9,
   "id": "downtown-standard",
   "metadata": {},
   "outputs": [
    {
     "data": {
      "text/plain": [
       "{3, 6, 9}"
      ]
     },
     "execution_count": 9,
     "metadata": {},
     "output_type": "execute_result"
    }
   ],
   "source": [
    "lst = {x for x in range(1,11) if x%3 == 0}\n",
    "lst"
   ]
  },
  {
   "cell_type": "code",
   "execution_count": 10,
   "id": "occupied-penetration",
   "metadata": {},
   "outputs": [
    {
     "data": {
      "text/plain": [
       "[0, 2, 4, 6, 8, 10]"
      ]
     },
     "execution_count": 10,
     "metadata": {},
     "output_type": "execute_result"
    }
   ],
   "source": [
    "list(range(0,11,2))"
   ]
  },
  {
   "cell_type": "code",
   "execution_count": 12,
   "id": "secondary-draft",
   "metadata": {},
   "outputs": [
    {
     "data": {
      "text/plain": [
       "{3, 6, 9}"
      ]
     },
     "execution_count": 12,
     "metadata": {},
     "output_type": "execute_result"
    }
   ],
   "source": [
    "lst"
   ]
  },
  {
   "cell_type": "code",
   "execution_count": 13,
   "id": "threaded-button",
   "metadata": {},
   "outputs": [],
   "source": [
    "s = set(lst)"
   ]
  },
  {
   "cell_type": "code",
   "execution_count": 14,
   "id": "technological-syracuse",
   "metadata": {},
   "outputs": [
    {
     "data": {
      "text/plain": [
       "{3, 6, 9}"
      ]
     },
     "execution_count": 14,
     "metadata": {},
     "output_type": "execute_result"
    }
   ],
   "source": [
    "s"
   ]
  },
  {
   "cell_type": "code",
   "execution_count": 15,
   "id": "voluntary-hardware",
   "metadata": {},
   "outputs": [
    {
     "data": {
      "text/plain": [
       "{3, 6, 9}"
      ]
     },
     "execution_count": 15,
     "metadata": {},
     "output_type": "execute_result"
    }
   ],
   "source": [
    "s"
   ]
  },
  {
   "cell_type": "code",
   "execution_count": 16,
   "id": "rotary-secondary",
   "metadata": {},
   "outputs": [
    {
     "data": {
      "text/plain": [
       "{3, 6, 9}"
      ]
     },
     "execution_count": 16,
     "metadata": {},
     "output_type": "execute_result"
    }
   ],
   "source": [
    "lst"
   ]
  },
  {
   "cell_type": "code",
   "execution_count": 18,
   "id": "disabled-command",
   "metadata": {},
   "outputs": [],
   "source": [
    "d = dict.fromkeys(lst)"
   ]
  },
  {
   "cell_type": "code",
   "execution_count": null,
   "id": "endangered-prompt",
   "metadata": {},
   "outputs": [],
   "source": []
  },
  {
   "cell_type": "code",
   "execution_count": 21,
   "id": "refined-living",
   "metadata": {},
   "outputs": [
    {
     "data": {
      "text/plain": [
       "[9, 3, 6]"
      ]
     },
     "execution_count": 21,
     "metadata": {},
     "output_type": "execute_result"
    }
   ],
   "source": [
    "d \n",
    "lst = list(d)\n",
    "lst"
   ]
  },
  {
   "cell_type": "code",
   "execution_count": null,
   "id": "committed-shell",
   "metadata": {},
   "outputs": [],
   "source": []
  },
  {
   "cell_type": "code",
   "execution_count": null,
   "id": "infectious-midnight",
   "metadata": {},
   "outputs": [],
   "source": []
  },
  {
   "cell_type": "code",
   "execution_count": null,
   "id": "norman-acting",
   "metadata": {},
   "outputs": [],
   "source": []
  },
  {
   "cell_type": "code",
   "execution_count": null,
   "id": "intensive-stephen",
   "metadata": {},
   "outputs": [],
   "source": []
  },
  {
   "cell_type": "code",
   "execution_count": null,
   "id": "sudden-picking",
   "metadata": {},
   "outputs": [],
   "source": []
  },
  {
   "cell_type": "code",
   "execution_count": null,
   "id": "fixed-sacramento",
   "metadata": {},
   "outputs": [],
   "source": []
  }
 ],
 "metadata": {
  "kernelspec": {
   "display_name": "Python 3",
   "language": "python",
   "name": "python3"
  },
  "language_info": {
   "codemirror_mode": {
    "name": "ipython",
    "version": 3
   },
   "file_extension": ".py",
   "mimetype": "text/x-python",
   "name": "python",
   "nbconvert_exporter": "python",
   "pygments_lexer": "ipython3",
   "version": "3.6.12"
  }
 },
 "nbformat": 4,
 "nbformat_minor": 5
}
